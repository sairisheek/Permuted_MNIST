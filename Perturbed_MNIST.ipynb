{
 "cells": [
  {
   "cell_type": "markdown",
   "id": "fa258c8b",
   "metadata": {},
   "source": [
    "## Task: Take halved and shuffled MNIST test set images and reconstruct the test set"
   ]
  },
  {
   "cell_type": "markdown",
   "id": "8bd0f982",
   "metadata": {},
   "source": [
    "Approach: Generate a prior distribution per pixel based on the training set, per label. Then assign the max probability of each pixel distribution to the corresponding pixel in the shuffled image. We just use the histogram of the shuffled image and call this the 'pixel budget'"
   ]
  },
  {
   "cell_type": "code",
   "execution_count": 1,
   "id": "1594f268",
   "metadata": {},
   "outputs": [],
   "source": [
    "#random shuffle transform\n",
    "class RandomShuffle(object):\n",
    "    def __call__(self, img):\n",
    "        left = img[:,:,0:14].flatten()\n",
    "        right = img[:,:,14:28].flatten()\n",
    "        left = left[torch.randperm(len(left))].reshape(1,28,14)\n",
    "        right = right[torch.randperm(len(right))].reshape(1,28,14)\n",
    "        img[:,:,0:14] = left\n",
    "        img[:,:,14:28] = right\n",
    "        return img\n",
    "\n",
    "    "
   ]
  },
  {
   "cell_type": "markdown",
   "id": "7e9a72ca",
   "metadata": {},
   "source": [
    "### Data Loading"
   ]
  },
  {
   "cell_type": "code",
   "execution_count": 2,
   "id": "fd1f53e6",
   "metadata": {},
   "outputs": [],
   "source": [
    "import torch\n",
    "import torchvision\n",
    "\n",
    "batch_size=128\n",
    "norm_tsfm = torchvision.transforms.Compose([\n",
    "                               torchvision.transforms.ToTensor()\n",
    "                             ])\n",
    "shuffle_tsfm = torchvision.transforms.Compose([\n",
    "                torchvision.transforms.ToTensor(),\n",
    "                               RandomShuffle()\n",
    "                             ])\n",
    "\n",
    "train_set = torchvision.datasets.MNIST('.', train=True, download=True,\n",
    "                             transform=norm_tsfm)\n",
    "shuffle_train_set = torchvision.datasets.MNIST('.', train=True, download=True,\n",
    "                             transform=shuffle_tsfm)\n",
    "\n",
    "\n",
    "test_set = torchvision.datasets.MNIST('.', train=False, download=True,\n",
    "                             transform=norm_tsfm)\n",
    "\n",
    "shuffle_test_set = torchvision.datasets.MNIST('.', train=False, download=True,\n",
    "                             transform=shuffle_tsfm)\n",
    "\n",
    "#train_loader = torch.utils.data.DataLoader(train_set,\n",
    "#  batch_size=batch_size, shuffle=True)\n",
    "#test_loader = torch.utils.data.DataLoader(test_set,\n",
    "#  batch_size=batch_size, shuffle=True)\n",
    "device = torch.device(\"cuda:0\" if torch.cuda.is_available() else \"cpu\")"
   ]
  },
  {
   "cell_type": "markdown",
   "id": "07cd417e",
   "metadata": {},
   "source": [
    "### Per-pixel probability map generator functions\n",
    "'gen_prob_map' will take the whole test set and generate intensity distributions per pixel\n",
    "\n",
    "'gen_prob_map_exemp' will only take the top k neighbors, matched by the histogram of the shuffled image\n",
    "\n",
    "'weights' is a parameter that will weight each training image by its histogram similarity to the input histogram\n",
    "\n",
    "For now, histogram distance is measured by simple L2 distance, better metrics such as KL-divergence can be used"
   ]
  },
  {
   "cell_type": "code",
   "execution_count": 53,
   "id": "d821a8d7",
   "metadata": {},
   "outputs": [],
   "source": [
    "def gen_prob_map(target_lbl, hist=None, weights=False):\n",
    "    tidxs = (train_set.targets==target_lbl)\n",
    "    sub_data = train_set.data[tidxs]\n",
    "    prob_map = torch.zeros(28,28,256)\n",
    "        \n",
    "    if weights:\n",
    "        hists = torch.zeros(sub_data.shape[0], 256)\n",
    "        for i,s in enumerate(sub_data):\n",
    "            hists[i] = torch.bincount(s.flatten(), minlength=256)\n",
    "        norms = torch.linalg.norm(hists - hist, dim=1)\n",
    "        norms = torch.max(norms) - norms + 1\n",
    "        for i in range(sub_data.shape[1]):\n",
    "            for j in range(sub_data.shape[2]):  \n",
    "                prob_map[i,j] = torch.bincount(sub_data[:,i,j], weights=norms, minlength=256)#/sub_data.shape[0]\n",
    "\n",
    "    else:\n",
    "        for i in range(sub_data.shape[1]):\n",
    "            for j in range(sub_data.shape[2]):    \n",
    "                prob_map[i,j] = torch.bincount(sub_data[:,i,j], minlength=256)#/sub_data.shape[0]\n",
    "\n",
    "    return prob_map\n",
    "\n",
    "def gen_prob_map_exemp(target, hist, k, weights=False):\n",
    "    tidxs = (train_set.targets==target_lbl)\n",
    "    sub_data = train_set.data[tidxs]\n",
    "    hists = torch.zeros(sub_data.shape[0], 256)\n",
    "    for i,s in enumerate(sub_data):\n",
    "        hists[i] = torch.bincount(s.flatten(), minlength=256)\n",
    "    norms = torch.linalg.norm(hists - hist, dim=1)\n",
    "    knn = norms.topk(k, largest=False)\n",
    "    sub_knn = sub_data[knn.indices]\n",
    "    prob_map = torch.zeros(28,28,256)\n",
    "    if weights:\n",
    "        norms = torch.max(knn.values) - knn.values + 1\n",
    "        for i in range(sub_knn.shape[1]):\n",
    "            for j in range(sub_knn.shape[2]):\n",
    "                prob_map[i,j] = torch.bincount(sub_knn[:,i,j],weights=norms,minlength=256)#/sub_knn.shape[0]\n",
    "    else:\n",
    "        for i in range(sub_knn.shape[1]):\n",
    "            for j in range(sub_knn.shape[2]):\n",
    "                prob_map[i,j] = torch.bincount(sub_knn[:,i,j], minlength=256)#/sub_knn.shape[0]\n",
    "\n",
    "    return prob_map\n",
    "\n"
   ]
  },
  {
   "cell_type": "markdown",
   "id": "0bebc7cf",
   "metadata": {},
   "source": [
    "### Example Prob maps"
   ]
  },
  {
   "cell_type": "code",
   "execution_count": 13,
   "id": "2c5cd0f5",
   "metadata": {},
   "outputs": [
    {
     "name": "stdout",
     "output_type": "stream",
     "text": [
      "torch.Size([28, 28])\n"
     ]
    },
    {
     "data": {
      "text/plain": [
       "<matplotlib.image.AxesImage at 0x7f2b8e612ed0>"
      ]
     },
     "execution_count": 13,
     "metadata": {},
     "output_type": "execute_result"
    },
    {
     "data": {
      "image/png": "[encoded data removed]",
      "text/plain": [
       "<Figure size 432x288 with 2 Axes>"
      ]
     },
     "metadata": {
      "needs_background": "light"
     },
     "output_type": "display_data"
    },
    {
     "data": {
      "image/png": "[encoded data removed]",
      "text/plain": [
       "<Figure size 432x288 with 1 Axes>"
      ]
     },
     "metadata": {
      "needs_background": "light"
     },
     "output_type": "display_data"
    }
   ],
   "source": [
    "prob_map = gen_prob_map(3)\n",
    "max_val, max_map = torch.max(prob_map,dim=2)\n",
    "\n",
    "exp_map = torch.sum(prob_map * torch.arange(256), dim=2)\n",
    "print(max_map.shape)\n",
    "fig = plt.figure()\n",
    "fig.add_subplot(1,2,1)\n",
    "plt.imshow(max_map, cmap='gray')\n",
    "fig.add_subplot(1,2,2)\n",
    "plt.imshow(max_val, cmap='gray')\n",
    "plt.figure()\n",
    "plt.imshow(exp_map, cmap='gray')"
   ]
  },
  {
   "cell_type": "markdown",
   "id": "ba4eb8e0",
   "metadata": {},
   "source": [
    "### Shuffled vs original image"
   ]
  },
  {
   "cell_type": "code",
   "execution_count": 60,
   "id": "c96efb35",
   "metadata": {},
   "outputs": [
    {
     "name": "stdout",
     "output_type": "stream",
     "text": [
      "tensor(9.0241)\n"
     ]
    },
    {
     "data": {
      "image/png": "[encoded data removed]",
      "text/plain": [
       "<Figure size 720x1440 with 2 Axes>"
      ]
     },
     "metadata": {
      "needs_background": "light"
     },
     "output_type": "display_data"
    }
   ],
   "source": [
    "import random\n",
    "target_lbl=6\n",
    "prob_map = gen_prob_map(target_lbl)\n",
    "stidxs = torch.nonzero((shuffle_train_set.targets==target_lbl))\n",
    "i = random.randint(0, stidxs.shape[0]-1)\n",
    "stidx = int(stidxs[i])\n",
    "#sub_shuf_data = shuffle_train_set[stidxs]\n",
    "sub_shuf_target = shuffle_train_set.targets[stidxs]\n",
    "orig_img, orig_lbl = train_set[stidx]\n",
    "test_img, test_lbl = shuffle_train_set[stidx]\n",
    "fig = plt.figure(figsize=(10,20))\n",
    "fig.add_subplot(1,2,1)\n",
    "plt.imshow(test_img.squeeze(), cmap='gray')\n",
    "plt.title('Shuffled Image')\n",
    "fig.add_subplot(1,2,2)\n",
    "plt.imshow(orig_img.squeeze(), cmap='gray')\n",
    "plt.title('Original Image')\n",
    "print(torch.linalg.norm(test_img.squeeze() - orig_img.squeeze(), dim=(0,1)))\n",
    "test_img = (255*test_img).type(torch.uint8).squeeze()"
   ]
  },
  {
   "cell_type": "markdown",
   "id": "206fc8b8",
   "metadata": {},
   "source": [
    "### Reconstruction algorithm\n",
    "'reconstruct_image' does not consider the fact that the test set was bisected vertically and shuffled independently, 'reconstruct_from_halves' does\n",
    "\n",
    "The images below don't have probability maps weighted by the histogram distance (weights = False). KNN histogram means that the top k histogram neighbors from the test set are used to construct the probability map"
   ]
  },
  {
   "cell_type": "code",
   "execution_count": 51,
   "id": "250307cb",
   "metadata": {},
   "outputs": [
    {
     "data": {
      "image/png": "[encoded data removed]",
      "text/plain": [
       "<Figure size 720x1440 with 2 Axes>"
      ]
     },
     "metadata": {
      "needs_background": "light"
     },
     "output_type": "display_data"
    },
    {
     "data": {
      "image/png": "[encoded data removed]",
      "text/plain": [
       "<Figure size 720x1440 with 2 Axes>"
      ]
     },
     "metadata": {
      "needs_background": "light"
     },
     "output_type": "display_data"
    }
   ],
   "source": [
    "import random\n",
    "def reconstruct_image(test_img, prob_map):\n",
    "    cp_prob_map = torch.clone(prob_map)\n",
    "    rec_img = torch.zeros_like(test_img, dtype=torch.uint8)\n",
    "    test_img_cts = torch.bincount(test_img.flatten(), minlength=256)\n",
    "    #print(test_img_cts)\n",
    "    ctr = 0\n",
    "    while ctr < test_img.shape[0]*test_img.shape[1]:\n",
    "        val = torch.max(cp_prob_map)\n",
    "        ixs = (cp_prob_map==val).nonzero()\n",
    "        rand = random.randint(0,ixs.shape[0]-1)\n",
    "        ix = ixs[0]\n",
    "        pix_val = ix[2]\n",
    "        #print(pix_val)\n",
    "        #print(ix)\n",
    "        if(test_img_cts[pix_val] > 0): # if we have pixel budget assign\n",
    "            rec_img[ix[0],ix[1]] = pix_val #assignment\n",
    "            test_img_cts[pix_val] -= 1 # reduce pixel budget\n",
    "            cp_prob_map[ix[0],ix[1],:] = -1 # don't get this as max prob map\n",
    "            ctr += 1\n",
    "        else:   # else don't get these pixel \n",
    "            cp_prob_map[:,:,pix_val] = -1\n",
    "    #print(test_img_cts)\n",
    "    return rec_img\n",
    "\n",
    "def reconstruct_from_halves(img, prob_map):\n",
    "    left_rec = reconstruct_image(img[:,0:14], prob_map[:,0:14])\n",
    "    right_rec = reconstruct_image(img[:,14:28], prob_map[:,14:28])\n",
    "    return torch.cat((left_rec,right_rec), 1)\n",
    "\n",
    "\n",
    "hist = torch.bincount(test_img.flatten(), minlength=256)\n",
    "prob_map = gen_prob_map(target_lbl)\n",
    "prob_map_e = gen_prob_map_exemp(target_lbl, hist,2000)\n",
    "rec = reconstruct_image(test_img, prob_map)\n",
    "better_rec = reconstruct_from_halves(test_img, prob_map)\n",
    "rec_e = reconstruct_image(test_img, prob_map_e)\n",
    "better_rec_e = reconstruct_from_halves(test_img, prob_map_e)\n",
    "\n",
    "fig1 = plt.figure(figsize=(10,20))\n",
    "fig1.add_subplot(1,2,1)\n",
    "plt.imshow(rec, cmap='gray')\n",
    "plt.title(\"No Half Separation\");\n",
    "fig1.add_subplot(1,2,2)\n",
    "plt.imshow(better_rec, cmap='gray')\n",
    "plt.title(\"Half Separation\");\n",
    "fig2 = plt.figure(figsize=(10,20))\n",
    "fig2.add_subplot(1,2,1)\n",
    "plt.imshow(rec_e, cmap='gray')\n",
    "plt.title(\"No Half Separation & KNN histogram\");\n",
    "fig2.add_subplot(1,2,2)\n",
    "plt.imshow(better_rec_e, cmap='gray')\n",
    "plt.title(\"Half Separation & KNN histogram\");\n"
   ]
  },
  {
   "cell_type": "markdown",
   "id": "eb6c5b2a",
   "metadata": {},
   "source": [
    "#### The images below have probability maps that consider samples weighted by the histogram distance"
   ]
  },
  {
   "cell_type": "code",
   "execution_count": 54,
   "id": "e5ca2560",
   "metadata": {},
   "outputs": [
    {
     "name": "stdout",
     "output_type": "stream",
     "text": [
      "WITH WEIGHTS\n"
     ]
    },
    {
     "data": {
      "image/png": "[encoded data removed]",
      "text/plain": [
       "<Figure size 720x1440 with 2 Axes>"
      ]
     },
     "metadata": {
      "needs_background": "light"
     },
     "output_type": "display_data"
    },
    {
     "data": {
      "image/png": "[encoded data removed]",
      "text/plain": [
       "<Figure size 720x1440 with 2 Axes>"
      ]
     },
     "metadata": {
      "needs_background": "light"
     },
     "output_type": "display_data"
    }
   ],
   "source": [
    "hist = torch.bincount(test_img.flatten(), minlength=256)\n",
    "prob_map = gen_prob_map(target_lbl, hist=hist, weights=True)\n",
    "prob_map_e = gen_prob_map_exemp(target_lbl, hist,1000, weights=True)\n",
    "rec = reconstruct_image(test_img, prob_map)\n",
    "better_rec = reconstruct_from_halves(test_img, prob_map)\n",
    "rec_e = reconstruct_image(test_img, prob_map_e)\n",
    "better_rec_e = reconstruct_from_halves(test_img, prob_map_e)\n",
    "print('WITH WEIGHTS')\n",
    "fig1 = plt.figure(figsize=(10,20))\n",
    "fig1.add_subplot(1,2,1)\n",
    "plt.imshow(rec, cmap='gray')\n",
    "plt.title(\"No Half Separation\");\n",
    "fig1.add_subplot(1,2,2)\n",
    "plt.imshow(better_rec, cmap='gray')\n",
    "plt.title(\"Half Separation\");\n",
    "fig2 = plt.figure(figsize=(10,20))\n",
    "fig2.add_subplot(1,2,1)\n",
    "plt.imshow(rec_e, cmap='gray')\n",
    "plt.title(\"No Half Separation & KNN histogram\");\n",
    "fig2.add_subplot(1,2,2)\n",
    "plt.imshow(better_rec_e, cmap='gray')\n",
    "plt.title(\"Half Separation & KNN histogram\");\n"
   ]
  },
  {
   "cell_type": "markdown",
   "id": "ed8a7e35",
   "metadata": {},
   "source": [
    "### Considerations for the future:\n",
    "- Implementing continuity constraints for the images can boost scores, as all of the input images are aliased and don't contain high spatial frequencies\n",
    "- Possibly smoothing the probability map histograms may help (e.g Laplacian smoothing) to give the intermediate intensity values a chance\n",
    "- Finding histogram neighbors by using better metrics such as KL-divergence\n",
    "- Batching the input to improve performance"
   ]
  },
  {
   "cell_type": "code",
   "execution_count": null,
   "id": "1e25728c",
   "metadata": {},
   "outputs": [
    {
     "data": {
      "application/vnd.jupyter.widget-view+json": {
       "model_id": "8d0cc87e38a6402abf070311a7d284d6",
       "version_major": 2,
       "version_minor": 0
      },
      "text/plain": [
       "  0%|          | 0/100 [00:00<?, ?it/s]"
      ]
     },
     "metadata": {},
     "output_type": "display_data"
    }
   ],
   "source": [
    "import matplotlib.pyplot as plt\n",
    "import tqdm.notebook as tq \n",
    "%matplotlib inline\n",
    "targets = torch.arange(10)\n",
    "l2s = torch.zeros(5,1000)\n",
    "for target in targets:\n",
    "    stidxs = (shuffle_train_set.targets==target).nonzero()\n",
    "    prob_map = gen_prob_map(target)\n",
    "    for i in tq.tqdm(range(100)):\n",
    "        stidx = int(stidxs[i])\n",
    "        orig_img, orig_lbl = test_set[stidx]\n",
    "        shuf_img, shuf_lbl = shuffle_test_set[stidx]\n",
    "        orig_img = (orig_img*255).type(torch.uint8).squeeze()\n",
    "        shuf_img = (shuf_img*255).type(torch.uint8).squeeze()\n",
    "        #prob_map = gen_prob_map_exemp(pr)\n",
    "        rec_img = reconstruct_image(shuf_img, prob_map)\n",
    "        l2s[0,i] = torch.linalg.norm((rec_img.float() - orig_img.float())/255., dim=(0,1))\n",
    "        rec_img = reconstruct_from_halves(shuf_img, prob_map)\n",
    "        l2s[1,i] = torch.linalg.norm((rec_img.float() - orig_img.float())/255., dim=(0,1))\n",
    "        \n",
    "        shuf_hist = torch.bincount(shuf_img.flatten(), minlength=256)\n",
    "        prob_map =  gen_prob_map_exemp(target, shuf_hist,1000)\n",
    "        rec_img = reconstruct_image(shuf_img, prob_map)\n",
    "        l2s[2,i] = torch.linalg.norm((rec_img.float() - orig_img.float())/255., dim=(0,1))\n",
    "        rec_img = reconstruct_from_halves(shuf_img, prob_map)\n",
    "        l2s[3,i] = torch.linalg.norm((rec_img.float() - orig_img.float())/255., dim=(0,1))\n",
    "        \n",
    "        l2s[4,i] = torch.linalg.norm((shuf_img.float() - orig_img.float())/255., dim=(0,1))\n",
    "\n"
   ]
  }
 ],
 "metadata": {
  "environment": {
   "name": "pytorch-gpu.1-8.m69",
   "type": "gcloud",
   "uri": "gcr.io/deeplearning-platform-release/pytorch-gpu.1-8:m69"
  },
  "kernelspec": {
   "display_name": "Python 3",
   "language": "python",
   "name": "python3"
  },
  "language_info": {
   "codemirror_mode": {
    "name": "ipython",
    "version": 3
   },
   "file_extension": ".py",
   "mimetype": "text/x-python",
   "name": "python",
   "nbconvert_exporter": "python",
   "pygments_lexer": "ipython3",
   "version": "3.7.10"
  }
 },
 "nbformat": 4,
 "nbformat_minor": 5
}
